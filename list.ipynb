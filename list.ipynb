{
 "cells": [
  {
   "cell_type": "code",
   "execution_count": 1,
   "id": "56766f5e-e85d-4042-9ddc-f91246ec488e",
   "metadata": {},
   "outputs": [],
   "source": [
    "x = []\n",
    "y = list()"
   ]
  },
  {
   "cell_type": "code",
   "execution_count": 2,
   "id": "9742ccca-e099-4ac0-b9d7-6c572e8758aa",
   "metadata": {},
   "outputs": [
    {
     "name": "stdout",
     "output_type": "stream",
     "text": [
      "[]\n"
     ]
    }
   ],
   "source": [
    "print(x)"
   ]
  },
  {
   "cell_type": "code",
   "execution_count": 6,
   "id": "e293407f-ab99-4963-9200-02248b8764a0",
   "metadata": {},
   "outputs": [
    {
     "data": {
      "text/plain": [
       "['a', 'b', 'c', 1, 2, 3]"
      ]
     },
     "execution_count": 6,
     "metadata": {},
     "output_type": "execute_result"
    }
   ],
   "source": [
    "x = ['a', 'b', 'c', 1, 2,3]\n",
    "x"
   ]
  },
  {
   "cell_type": "code",
   "execution_count": 3,
   "id": "fe9171e2-821c-4482-bb2b-710ddef483af",
   "metadata": {},
   "outputs": [],
   "source": [
    "x = ['cucumbers', 'apples', 'oranges']"
   ]
  },
  {
   "cell_type": "code",
   "execution_count": 4,
   "id": "25e561ef-8349-4bfd-a04a-e0d798e3fd45",
   "metadata": {},
   "outputs": [
    {
     "name": "stdout",
     "output_type": "stream",
     "text": [
      "['cucumbers', 'apples', 'oranges']\n"
     ]
    }
   ],
   "source": [
    "print(x)"
   ]
  },
  {
   "cell_type": "code",
   "execution_count": 7,
   "id": "c9a3a68c-3161-41b2-97bb-c5f5470d26e4",
   "metadata": {},
   "outputs": [
    {
     "name": "stdout",
     "output_type": "stream",
     "text": [
      "['cucumbers', 'apples', 'oranges']\n"
     ]
    }
   ],
   "source": [
    "y = list(['cucumbers', 'apples', 'oranges'])\n",
    "print(y)"
   ]
  },
  {
   "cell_type": "code",
   "execution_count": 13,
   "id": "092ee045-ebd4-471c-827d-c899f0a96a14",
   "metadata": {},
   "outputs": [
    {
     "data": {
      "text/plain": [
       "'oranges'"
      ]
     },
     "execution_count": 13,
     "metadata": {},
     "output_type": "execute_result"
    }
   ],
   "source": [
    "item = y[2]\n",
    "item"
   ]
  },
  {
   "cell_type": "code",
   "execution_count": 11,
   "id": "605327ea-8970-4d37-9946-098db5a98beb",
   "metadata": {},
   "outputs": [
    {
     "data": {
      "text/plain": [
       "'oranges'"
      ]
     },
     "execution_count": 11,
     "metadata": {},
     "output_type": "execute_result"
    }
   ],
   "source": [
    "y[-1]"
   ]
  },
  {
   "cell_type": "code",
   "execution_count": 14,
   "id": "6593a23a-0dd8-448c-8db7-7513dc43ff84",
   "metadata": {},
   "outputs": [
    {
     "name": "stdout",
     "output_type": "stream",
     "text": [
      "cucumbers\n",
      "apples\n",
      "oranges\n"
     ]
    }
   ],
   "source": [
    "for things in y:\n",
    "    print(things)"
   ]
  },
  {
   "cell_type": "code",
   "execution_count": 15,
   "id": "bba1f07f-fbaf-4142-ab8a-cf7269b06830",
   "metadata": {},
   "outputs": [
    {
     "name": "stdout",
     "output_type": "stream",
     "text": [
      "a\n",
      "b\n",
      "c\n",
      "1\n",
      "2\n",
      "3\n"
     ]
    }
   ],
   "source": [
    "for things in x:\n",
    "    print(things)"
   ]
  },
  {
   "cell_type": "code",
   "execution_count": 16,
   "id": "9681e75f-7259-4cf7-a799-4ee750452d1e",
   "metadata": {},
   "outputs": [],
   "source": [
    "myList = [56,25,59,-5, 100]"
   ]
  },
  {
   "cell_type": "code",
   "execution_count": 20,
   "id": "66110527-649f-4ab0-94b6-c3cf91e97675",
   "metadata": {},
   "outputs": [
    {
     "data": {
      "text/plain": [
       "235"
      ]
     },
     "execution_count": 20,
     "metadata": {},
     "output_type": "execute_result"
    }
   ],
   "source": [
    "min(myList)\n",
    "max(myList)\n",
    "sum(myList)"
   ]
  },
  {
   "cell_type": "code",
   "execution_count": 17,
   "id": "1c59fc9f-c0a0-4935-b724-a18fa700359a",
   "metadata": {},
   "outputs": [
    {
     "data": {
      "text/plain": [
       "5"
      ]
     },
     "execution_count": 17,
     "metadata": {},
     "output_type": "execute_result"
    }
   ],
   "source": [
    "len(myList)"
   ]
  },
  {
   "cell_type": "code",
   "execution_count": 21,
   "id": "93222430-caf7-43f6-968b-cb1fd17ea62f",
   "metadata": {},
   "outputs": [],
   "source": [
    "myList.sort()"
   ]
  },
  {
   "cell_type": "code",
   "execution_count": 22,
   "id": "c2d67753-2d1b-4340-ac3f-958e2b9523c7",
   "metadata": {},
   "outputs": [
    {
     "data": {
      "text/plain": [
       "[-5, 25, 56, 59, 100]"
      ]
     },
     "execution_count": 22,
     "metadata": {},
     "output_type": "execute_result"
    }
   ],
   "source": [
    "myList"
   ]
  },
  {
   "cell_type": "code",
   "execution_count": 23,
   "id": "fa0d1dd8-2300-4985-94ce-e5c5e0dc5cf9",
   "metadata": {},
   "outputs": [],
   "source": [
    "myList.sort(reverse=True)"
   ]
  },
  {
   "cell_type": "code",
   "execution_count": 24,
   "id": "9a0fe0a5-739f-40c2-b81c-e1e037436a4f",
   "metadata": {},
   "outputs": [
    {
     "data": {
      "text/plain": [
       "[100, 59, 56, 25, -5]"
      ]
     },
     "execution_count": 24,
     "metadata": {},
     "output_type": "execute_result"
    }
   ],
   "source": [
    "myList"
   ]
  },
  {
   "cell_type": "code",
   "execution_count": 26,
   "id": "c8a9263e-1c9a-4c1d-bfbb-f6f3891a419e",
   "metadata": {},
   "outputs": [],
   "source": [
    "y.append('guava') "
   ]
  },
  {
   "cell_type": "code",
   "execution_count": 27,
   "id": "3934bef5-9c9d-4456-816b-2956f76cd6d4",
   "metadata": {},
   "outputs": [
    {
     "data": {
      "text/plain": [
       "['cucumbers', 'apples', 'oranges', 'guava']"
      ]
     },
     "execution_count": 27,
     "metadata": {},
     "output_type": "execute_result"
    }
   ],
   "source": [
    "y"
   ]
  },
  {
   "cell_type": "code",
   "execution_count": 30,
   "id": "d821474d-bbdb-43cd-a73e-72ffefa85115",
   "metadata": {},
   "outputs": [
    {
     "name": "stdin",
     "output_type": "stream",
     "text": [
      "Enter an integer:  23\n",
      "Enter an integer:  35\n",
      "Enter an integer:  68\n"
     ]
    },
    {
     "name": "stdout",
     "output_type": "stream",
     "text": [
      "[23, 35, 68]\n"
     ]
    }
   ],
   "source": [
    "numList = [] # list()\n",
    "count = 0\n",
    "while count < 3:\n",
    "    x = input('Enter an integer: ')\n",
    "    x = int(x)\n",
    "    numList.append(x)\n",
    "    count = count + 1\n",
    "print(numList)"
   ]
  },
  {
   "cell_type": "code",
   "execution_count": 31,
   "id": "6ff30ac8-1ce9-48ae-9ca7-b32bb35cbba5",
   "metadata": {},
   "outputs": [
    {
     "name": "stdin",
     "output_type": "stream",
     "text": [
      "Enter an integer:  36\n",
      "Enter an integer:  56\n",
      "Enter an integer:  89\n",
      "Enter an integer:  400\n",
      "Enter an integer:  100\n",
      "Enter an integer:  23\n",
      "Enter an integer:  done\n"
     ]
    },
    {
     "name": "stdout",
     "output_type": "stream",
     "text": [
      "[36, 56, 89, 400, 100, 23]\n"
     ]
    }
   ],
   "source": [
    "numList = [] # list()\n",
    "while True:\n",
    "    x = input('Enter an integer: ')\n",
    "    if x.lower() != 'done':\n",
    "        x = int(x)\n",
    "        numList.append(x)\n",
    "    else:\n",
    "        break\n",
    "print(numList)"
   ]
  },
  {
   "cell_type": "code",
   "execution_count": 34,
   "id": "00ec2fc6-c73e-4391-94a5-42fe66481ace",
   "metadata": {},
   "outputs": [
    {
     "name": "stdout",
     "output_type": "stream",
     "text": [
      "List is:  [36, 56, 89, 400, 100, 23]  count:  6  total:  704  average:  117.33333333333333\n"
     ]
    }
   ],
   "source": [
    "count = len(numList)\n",
    "total = sum(numList)\n",
    "average = total/count\n",
    "print('List is: ', numList, ' count: ', count, ' total: ', total, ' average: ', average)"
   ]
  },
  {
   "cell_type": "code",
   "execution_count": 33,
   "id": "74dc6a89-2c4d-436c-bcd0-7dcadaf59303",
   "metadata": {},
   "outputs": [
    {
     "data": {
      "text/plain": [
       "'done'"
      ]
     },
     "execution_count": 33,
     "metadata": {},
     "output_type": "execute_result"
    }
   ],
   "source": [
    "x = 'DoNe'\n",
    "x.lower()"
   ]
  },
  {
   "cell_type": "code",
   "execution_count": 40,
   "id": "34881900-a23e-4165-aeac-d1bbee11ba3b",
   "metadata": {},
   "outputs": [
    {
     "data": {
      "text/plain": [
       "[100, 102, 104, 106, 108]"
      ]
     },
     "execution_count": 40,
     "metadata": {},
     "output_type": "execute_result"
    }
   ],
   "source": [
    "list(range(10)) # constructor\n",
    "list(range(100,110))\n",
    "list(range(100,110,2))"
   ]
  },
  {
   "cell_type": "code",
   "execution_count": 43,
   "id": "52284ce2-c959-41e5-959a-230d30f7ae93",
   "metadata": {},
   "outputs": [
    {
     "data": {
      "text/plain": [
       "[36, 56, 89, 400, 100, 23]"
      ]
     },
     "execution_count": 43,
     "metadata": {},
     "output_type": "execute_result"
    }
   ],
   "source": [
    "numList"
   ]
  },
  {
   "cell_type": "code",
   "execution_count": 44,
   "id": "f46c09e3-9ce2-44e7-aa45-2aba94fec76c",
   "metadata": {},
   "outputs": [
    {
     "data": {
      "text/plain": [
       "[56, 89, 400, 100]"
      ]
     },
     "execution_count": 44,
     "metadata": {},
     "output_type": "execute_result"
    }
   ],
   "source": [
    "numList[1:5] # slicing"
   ]
  },
  {
   "cell_type": "code",
   "execution_count": 46,
   "id": "6de3c039-d1f2-4140-bfce-4c7cbdd2b52f",
   "metadata": {},
   "outputs": [
    {
     "data": {
      "text/plain": [
       "[56, 100]"
      ]
     },
     "execution_count": 46,
     "metadata": {},
     "output_type": "execute_result"
    }
   ],
   "source": [
    "numList[1:5:3] # slicing, skips 2 numbers 89 & 400"
   ]
  },
  {
   "cell_type": "code",
   "execution_count": 47,
   "id": "c33864f3-7b61-4e0a-9ec1-fabdf917f4c1",
   "metadata": {},
   "outputs": [
    {
     "data": {
      "text/plain": [
       "[23, 89]"
      ]
     },
     "execution_count": 47,
     "metadata": {},
     "output_type": "execute_result"
    }
   ],
   "source": [
    "numList[-1:-5:-3] # slicing, skips 2 numbers 89 & 400 list[start:stop:step]"
   ]
  },
  {
   "cell_type": "code",
   "execution_count": 48,
   "id": "ef8d42b0-1d45-4b74-974c-b7b95774bd11",
   "metadata": {},
   "outputs": [
    {
     "name": "stdout",
     "output_type": "stream",
     "text": [
      "['a', 'b', 'c', 'd', 'e', 'f']\n"
     ]
    }
   ],
   "source": [
    "list1 = ['a', 'b', 'c']\n",
    "list2 = ['d', 'e', 'f']\n",
    "list3 = list1+list2\n",
    "print(list3)"
   ]
  },
  {
   "cell_type": "code",
   "execution_count": 50,
   "id": "454c42ef-cf95-4df9-a140-bc64bbd981f4",
   "metadata": {},
   "outputs": [
    {
     "data": {
      "text/plain": [
       "['c', 'b', 'e', 'f', 'a', 'd']"
      ]
     },
     "execution_count": 50,
     "metadata": {},
     "output_type": "execute_result"
    }
   ],
   "source": [
    "import random\n",
    "random.shuffle(list3)\n",
    "list3"
   ]
  },
  {
   "cell_type": "code",
   "execution_count": 51,
   "id": "622140f2-851b-4bb1-bd6d-5e8cefdee2dd",
   "metadata": {},
   "outputs": [
    {
     "data": {
      "text/plain": [
       "['a', 'b', 'c', 'a', 'b', 'c']"
      ]
     },
     "execution_count": 51,
     "metadata": {},
     "output_type": "execute_result"
    }
   ],
   "source": [
    "2*list1"
   ]
  },
  {
   "cell_type": "code",
   "execution_count": 54,
   "id": "919d7947-4fe5-4675-9f2d-f8ea44f10717",
   "metadata": {},
   "outputs": [
    {
     "data": {
      "text/plain": [
       "False"
      ]
     },
     "execution_count": 54,
     "metadata": {},
     "output_type": "execute_result"
    }
   ],
   "source": [
    "'h' in list1"
   ]
  },
  {
   "cell_type": "code",
   "execution_count": 55,
   "id": "eff91e32-4202-4545-9660-b9330aeaf841",
   "metadata": {},
   "outputs": [
    {
     "data": {
      "text/plain": [
       "['a', 'b', 'c']"
      ]
     },
     "execution_count": 55,
     "metadata": {},
     "output_type": "execute_result"
    }
   ],
   "source": [
    "list1"
   ]
  },
  {
   "cell_type": "code",
   "execution_count": 56,
   "id": "e8b5fcc8-0f0c-4e2c-8a61-82ec2611b125",
   "metadata": {},
   "outputs": [
    {
     "data": {
      "text/plain": [
       "['a', 'jjh', 'c']"
      ]
     },
     "execution_count": 56,
     "metadata": {},
     "output_type": "execute_result"
    }
   ],
   "source": [
    "list1[1]= 'jjh'\n",
    "list1"
   ]
  },
  {
   "cell_type": "markdown",
   "id": "170e1417-2131-4ec6-848f-1f5be6db97a0",
   "metadata": {},
   "source": [
    "# create a list of 10 random numbers from 200 to 300. and check if the numbers are even. If numbers are even, save them in a separate list."
   ]
  },
  {
   "cell_type": "code",
   "execution_count": 57,
   "id": "a36dc360-d631-42be-9098-832053083391",
   "metadata": {},
   "outputs": [
    {
     "name": "stdout",
     "output_type": "stream",
     "text": [
      "[264, 211, 224, 268, 210, 216, 247, 266, 203, 252]\n"
     ]
    }
   ],
   "source": [
    "import random\n",
    "count = 0\n",
    "listNum = list()\n",
    "while count < 10:\n",
    "    x = random.randint(200,301)\n",
    "    listNum.append(x)\n",
    "    count = count + 1\n",
    "print(listNum)\n",
    "\n",
    "# listNum = []\n",
    "# for i in range(10):\n",
    "#     x = random.randint(200,301)\n",
    "#     listNum.append(x)\n",
    "# print(listNum)"
   ]
  },
  {
   "cell_type": "code",
   "execution_count": 58,
   "id": "9914b16e-3a46-4383-8e2c-127941cf31e6",
   "metadata": {},
   "outputs": [
    {
     "name": "stdout",
     "output_type": "stream",
     "text": [
      "[264, 224, 268, 210, 216, 266, 252]\n"
     ]
    }
   ],
   "source": [
    "even_list = []\n",
    "for number in listNum:\n",
    "    if number%2 == 0:\n",
    "        even_list.append(number)\n",
    "print(even_list)"
   ]
  },
  {
   "cell_type": "code",
   "execution_count": 60,
   "id": "f651d7da-2770-46ee-a674-bcf0906b47ff",
   "metadata": {},
   "outputs": [
    {
     "name": "stdout",
     "output_type": "stream",
     "text": [
      "[266, 251, 248, 203, 232, 259, 261, 210, 284, 289]\n"
     ]
    }
   ],
   "source": [
    "listNum = []\n",
    "for i in range(10):\n",
    "    x = random.randint(200,301)\n",
    "    listNum.append(x)\n",
    "print(listNum)"
   ]
  },
  {
   "cell_type": "markdown",
   "id": "fdefc2db-9e69-45a2-b2d3-9aa9b6da857b",
   "metadata": {},
   "source": [
    "# If we list all the natural numbers below 10  that are multiples of3 \n",
    "  5 \r\n",
    ", we  3,5,6  \r\n",
    " 9nd \r\n",
    "  The sum of these multipl 23   \r\n",
    ".\r\n",
    "\r\n",
    "Find the sum of all the multi3 es 5  \r\n",
    " or1000\r\n",
    " below \r\n",
    "."
   ]
  },
  {
   "cell_type": "code",
   "execution_count": null,
   "id": "4056787d-0117-46e4-a20a-dc7088a9278f",
   "metadata": {},
   "outputs": [],
   "source": [
    "# 3, 6, 9, 12, 15,... , 999\n",
    "# 5 , 10, 15, 20, 995\n",
    "# 15, 30, 45, 60, "
   ]
  },
  {
   "cell_type": "code",
   "execution_count": 69,
   "id": "d2901200-dd7c-46d7-b591-65c6280a6810",
   "metadata": {},
   "outputs": [],
   "source": [
    "numList = []\n",
    "for i in range(1, 1000):\n",
    "    if i%3==0:\n",
    "        numList.append(i)\n",
    "    elif i%5==0:\n",
    "        numList.append(i)\n",
    "# print(numList)"
   ]
  },
  {
   "cell_type": "code",
   "execution_count": 67,
   "id": "73730546-0f61-494d-a239-ba3779c80de1",
   "metadata": {},
   "outputs": [],
   "source": [
    "numList = []\n",
    "for i in range(1, 1000):\n",
    "    if i%3==0 or i%5==0:\n",
    "        numList.append(i)\n",
    "# print(numList)"
   ]
  },
  {
   "cell_type": "code",
   "execution_count": 68,
   "id": "aa23fb25-b944-4606-b974-5e730fd62091",
   "metadata": {},
   "outputs": [
    {
     "data": {
      "text/plain": [
       "233168"
      ]
     },
     "execution_count": 68,
     "metadata": {},
     "output_type": "execute_result"
    }
   ],
   "source": [
    "sum(numList)"
   ]
  },
  {
   "cell_type": "code",
   "execution_count": 70,
   "id": "54d15841-6904-4463-9458-454e594263b4",
   "metadata": {},
   "outputs": [
    {
     "data": {
      "text/plain": [
       "[1, 2, 3, 4, 5, 6, 7, 8, 9]"
      ]
     },
     "execution_count": 70,
     "metadata": {},
     "output_type": "execute_result"
    }
   ],
   "source": [
    "list(range(1,10))"
   ]
  },
  {
   "cell_type": "code",
   "execution_count": null,
   "id": "3ec163f5-f7cd-4b8e-8702-ab6c1b13459c",
   "metadata": {},
   "outputs": [],
   "source": []
  }
 ],
 "metadata": {
  "kernelspec": {
   "display_name": "Python 3 (ipykernel)",
   "language": "python",
   "name": "python3"
  },
  "language_info": {
   "codemirror_mode": {
    "name": "ipython",
    "version": 3
   },
   "file_extension": ".py",
   "mimetype": "text/x-python",
   "name": "python",
   "nbconvert_exporter": "python",
   "pygments_lexer": "ipython3",
   "version": "3.12.7"
  }
 },
 "nbformat": 4,
 "nbformat_minor": 5
}